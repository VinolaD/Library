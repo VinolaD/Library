{
  "nbformat": 4,
  "nbformat_minor": 0,
  "metadata": {
    "colab": {
      "provenance": []
    },
    "kernelspec": {
      "name": "python3",
      "display_name": "Python 3"
    },
    "language_info": {
      "name": "python"
    }
  },
  "cells": [
    {
      "cell_type": "markdown",
      "source": [
        "# **16/09/2024**"
      ],
      "metadata": {
        "id": "Xz4ro_WHNat-"
      }
    },
    {
      "cell_type": "code",
      "source": [
        "class library:\n",
        "    def __init__(self,books):\n",
        "        self.Booklist=books\n",
        "\n",
        "    def show(self): #step3\n",
        "        print(self.Booklist) #step4-print in the Booklist\n",
        "\n",
        "    def available_books(self,rqdbooks):\n",
        "        if rqdbooks in self.Booklist:\n",
        "            self.Booklist.remove(rqdbooks)\n",
        "            print(\"book lended successfully\")\n",
        "            return rqdbooks\n",
        "        else:\n",
        "            print(\"your rqdbooks not available \")\n",
        "\n",
        "    def return_library(self,rtbook):\n",
        "        self.Booklist.append(rtbook)\n",
        "        print(\"book is added successfully\")\n",
        "\n",
        "class customer:\n",
        "    def requested_books(self):\n",
        "        rqbook=input(\"enter the book\")\n",
        "        return rqbook\n",
        "\n",
        "    def return_book(self):\n",
        "        rtnbook=input(\"return the book: \")\n",
        "        if rtnbook in self.customer_books:\n",
        "            self.customer_books.remove(rtnbook)\n",
        "            print(\"book returned successfully \")\n",
        "            return rtnbook\n",
        "        else:\n",
        "            print(\"book is not available\")\n",
        "\n",
        "\n",
        "    def __init__(self):\n",
        "        self.customer_books=[]\n",
        "\n",
        "    def add_book(self,rqdbooks):\n",
        "        self.customer_books.append(rqdbooks)\n",
        "\n",
        "    def show_customer(self):\n",
        "        print(self.customer_books)"
      ],
      "metadata": {
        "id": "NvMismMoNhgZ"
      },
      "execution_count": 1,
      "outputs": []
    },
    {
      "cell_type": "code",
      "source": [
        "Guindy_library=library(['b1','b2','b3','b4','b2','b4']) #step2\n",
        "martin_cust=customer()"
      ],
      "metadata": {
        "id": "JlFLklDINvIR"
      },
      "execution_count": 2,
      "outputs": []
    },
    {
      "cell_type": "code",
      "source": [
        "print(\"welcome to the library\")\n",
        "while True:\n",
        "    print(\"1-show all books\")\n",
        "    print(\"2-lend the books\")\n",
        "    print(\"3-book list of customer\")\n",
        "    print(\"4-return the book\")\n",
        "    print(\"5-exit\")\n",
        "\n",
        "    option=int(input(\"enter the options: \"))\n",
        "    if option==1:\n",
        "        Guindy_library.show() #1.call the functions from Guindy library class\n",
        "\n",
        "    elif option==2:\n",
        "        requested_books=martin_cust.requested_books()\n",
        "        print(\"your requested books is : \",requested_books)\n",
        "\n",
        "        Gbfl=Guindy_library.available_books(requested_books)\n",
        "        lended_book=martin_cust.add_book(Gbfl)\n",
        "    elif option==3:\n",
        "        martin_cust.show_customer()\n",
        "    elif option==4:\n",
        "        returned_book=martin_cust.return_book()\n",
        "        print(\"your returned book is: \",returned_book)\n",
        "\n",
        "        Guindy_library.return_library(returned_book)\n",
        "\n",
        "\n",
        "\n",
        "\n",
        "\n",
        "    elif option==5:\n",
        "        print(\"thankyou for visit this library\")\n",
        "        break"
      ],
      "metadata": {
        "colab": {
          "base_uri": "https://localhost:8080/"
        },
        "id": "9kPdromhOwaJ",
        "outputId": "3564c03c-5440-4977-d325-6f589818c5ed"
      },
      "execution_count": 5,
      "outputs": [
        {
          "output_type": "stream",
          "name": "stdout",
          "text": [
            "welcome to the library\n",
            "1-show all books\n",
            "2-lend the books\n",
            "3-book list of customer\n",
            "4-return the book\n",
            "5-exit\n",
            "enter the options: 1\n",
            "['b1', 'b2', 'b3', 'b4', 'b2', 'b4']\n",
            "1-show all books\n",
            "2-lend the books\n",
            "3-book list of customer\n",
            "4-return the book\n",
            "5-exit\n",
            "enter the options: 2\n",
            "enter the bookb2\n",
            "your requested books is :  b2\n",
            "book lended successfully\n",
            "1-show all books\n",
            "2-lend the books\n",
            "3-book list of customer\n",
            "4-return the book\n",
            "5-exit\n",
            "enter the options: 3\n",
            "[None, 'b2']\n",
            "1-show all books\n",
            "2-lend the books\n",
            "3-book list of customer\n",
            "4-return the book\n",
            "5-exit\n",
            "enter the options: 4\n",
            "return the book: 1\n",
            "book is not available\n",
            "your returned book is:  None\n",
            "book is added successfully\n",
            "1-show all books\n",
            "2-lend the books\n",
            "3-book list of customer\n",
            "4-return the book\n",
            "5-exit\n",
            "enter the options: 4\n",
            "return the book: b2\n",
            "book returned successfully \n",
            "your returned book is:  b2\n",
            "book is added successfully\n",
            "1-show all books\n",
            "2-lend the books\n",
            "3-book list of customer\n",
            "4-return the book\n",
            "5-exit\n",
            "enter the options: 1\n",
            "['b1', 'b3', 'b4', 'b2', 'b4', None, 'b2']\n",
            "1-show all books\n",
            "2-lend the books\n",
            "3-book list of customer\n",
            "4-return the book\n",
            "5-exit\n",
            "enter the options: 5\n",
            "thankyou for visit this library\n"
          ]
        }
      ]
    }
  ]
}